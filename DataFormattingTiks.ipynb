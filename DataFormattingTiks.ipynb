{
 "cells": [
  {
   "cell_type": "code",
   "execution_count": 1,
   "metadata": {},
   "outputs": [],
   "source": [
    "import json\n",
    "import codecs\n",
    "def json_readr(file):\n",
    "    for line in codecs.open(file, mode=\"r\", encoding='utf-8-sig'):\n",
    "        yield json.loads(line)"
   ]
  },
  {
   "cell_type": "code",
   "execution_count": 2,
   "metadata": {},
   "outputs": [],
   "source": [
    "filename = 'raw_data.txt'"
   ]
  },
  {
   "cell_type": "code",
   "execution_count": 3,
   "metadata": {},
   "outputs": [],
   "source": [
    "protocols = list(json_readr(filename))"
   ]
  },
  {
   "cell_type": "code",
   "execution_count": 4,
   "metadata": {},
   "outputs": [
    {
     "data": {
      "text/plain": [
       "100470"
      ]
     },
     "execution_count": 4,
     "metadata": {},
     "output_type": "execute_result"
    }
   ],
   "source": [
    "len(protocols)"
   ]
  },
  {
   "cell_type": "code",
   "execution_count": 7,
   "metadata": {},
   "outputs": [],
   "source": [
    "tiks = [x for x in protocols if len(x['loc']) == 2]"
   ]
  },
  {
   "cell_type": "code",
   "execution_count": 9,
   "metadata": {},
   "outputs": [
    {
     "data": {
      "text/plain": [
       "2776"
      ]
     },
     "execution_count": 9,
     "metadata": {},
     "output_type": "execute_result"
    }
   ],
   "source": [
    "len(tiks)"
   ]
  },
  {
   "cell_type": "code",
   "execution_count": 10,
   "metadata": {},
   "outputs": [
    {
     "data": {
      "text/plain": [
       "{'data': {'10|Число действительных избирательных бюллетеней': '11175',\n",
       "  '11|Число утраченных избирательных бюллетеней': '0',\n",
       "  '12|Число избирательных бюллетеней, не учтенных при получении': '0',\n",
       "  '13|Бабурин Сергей Николаевич': '24',\n",
       "  '14|Грудинин Павел Николаевич': '655',\n",
       "  '15|Жириновский Владимир Вольфович': '149',\n",
       "  '16|Путин Владимир Владимирович': '10229',\n",
       "  '17|Собчак Ксения Анатольевна': '62',\n",
       "  '18|Сурайкин Максим Александрович': '16',\n",
       "  '19|Титов Борис Юрьевич': '15',\n",
       "  '1|Число избирателей, включенных в список избирателей': '11624',\n",
       "  '20|Явлинский Григорий Алексеевич': '25',\n",
       "  '2|Число избирательных бюллетеней, полученных участковой избирательной комиссией': '11350',\n",
       "  '3|Число избирательных бюллетеней, выданных избирателям, проголосовавшим досрочно': '0',\n",
       "  '4|Число избирательных бюллетеней, выданных в помещении для голосования в день голосования': '10833',\n",
       "  '5|Число избирательных бюллетеней, выданных вне помещения для голосования в день голосования': '399',\n",
       "  '6|Число погашенных избирательных бюллетеней': '118',\n",
       "  '7|Число избирательных бюллетеней в переносных ящиках для голосования': '399',\n",
       "  '8|Число бюллетеней в стационарных ящиках для голосования': '10833',\n",
       "  '9|Число недействительных избирательных бюллетеней': '57'},\n",
       " 'loc': ['Республика Адыгея (Адыгея)', 'Адыгейская'],\n",
       " 'timestamp': '11:21:25 03/20/18',\n",
       " 'url': 'http://www.vybory.izbirkom.ru/region/izbirkom?action=show&global=true&root=1000001&tvd=100100084849067&vrn=100100084849062&prver=0&pronetvd=0&region=99&sub_region=99&type=227&vibid=100100084849067'}"
      ]
     },
     "execution_count": 10,
     "metadata": {},
     "output_type": "execute_result"
    }
   ],
   "source": [
    "tiks[0]"
   ]
  },
  {
   "cell_type": "code",
   "execution_count": 11,
   "metadata": {},
   "outputs": [],
   "source": [
    "loc_region = []\n",
    "loc_tik = []\n",
    "protocol_1 = []\n",
    "protocol_2 = []\n",
    "protocol_3 = []\n",
    "protocol_4 = []\n",
    "protocol_5 = []\n",
    "protocol_6 = []\n",
    "protocol_7 = []\n",
    "protocol_8 = []\n",
    "protocol_9 = []\n",
    "protocol_10 = []\n",
    "protocol_11 = []\n",
    "protocol_12 = []\n",
    "protocol_13 = []\n",
    "protocol_14 = []\n",
    "protocol_15 = []\n",
    "protocol_16 = []\n",
    "protocol_17 = []\n",
    "protocol_18 = []\n",
    "protocol_19 = []\n",
    "protocol_20 = []"
   ]
  },
  {
   "cell_type": "code",
   "execution_count": 12,
   "metadata": {},
   "outputs": [],
   "source": [
    "for x in tiks:\n",
    "    loc_region.append(x['loc'][0])\n",
    "    loc_tik.append(x['loc'][1])\n",
    "    protocol_1.append(int(x['data']['1|Число избирателей, включенных в список избирателей'])) #1\n",
    "    protocol_2.append(int(x['data']['2|Число избирательных бюллетеней, полученных участковой избирательной комиссией'])) #2\n",
    "    protocol_3.append(int(x['data']['3|Число избирательных бюллетеней, выданных избирателям, проголосовавшим досрочно'])) #3\n",
    "    protocol_4.append(int(x['data']['4|Число избирательных бюллетеней, выданных в помещении для голосования в день голосования'])) #4\n",
    "    protocol_5.append(int(x['data']['5|Число избирательных бюллетеней, выданных вне помещения для голосования в день голосования'])) #5\n",
    "    protocol_6.append(int(x['data']['6|Число погашенных избирательных бюллетеней'])) #6\n",
    "    protocol_7.append(int(x['data']['7|Число избирательных бюллетеней в переносных ящиках для голосования'])) #7\n",
    "    protocol_8.append(int(x['data']['8|Число бюллетеней в стационарных ящиках для голосования'])) #8\n",
    "    protocol_9.append(int(x['data']['9|Число недействительных избирательных бюллетеней'])) #9\n",
    "    protocol_10.append(int(x['data']['10|Число действительных избирательных бюллетеней'])) #10\n",
    "    protocol_11.append(int(x['data']['11|Число утраченных избирательных бюллетеней'])) #11\n",
    "    protocol_12.append(int(x['data']['12|Число избирательных бюллетеней, не учтенных при получении'])) #12\n",
    "    protocol_13.append(int(x['data']['13|Бабурин Сергей Николаевич'])) #13\n",
    "    protocol_14.append(int(x['data']['14|Грудинин Павел Николаевич'])) #14\n",
    "    protocol_15.append(int(x['data']['15|Жириновский Владимир Вольфович'])) #15\n",
    "    protocol_16.append(int(x['data']['16|Путин Владимир Владимирович'])) #16\n",
    "    protocol_17.append(int(x['data']['17|Собчак Ксения Анатольевна'])) #17\n",
    "    protocol_18.append(int(x['data']['18|Сурайкин Максим Александрович'])) #18\n",
    "    protocol_19.append(int(x['data']['19|Титов Борис Юрьевич'])) #19\n",
    "    protocol_20.append(int(x['data']['20|Явлинский Григорий Алексеевич'])) #20"
   ]
  },
  {
   "cell_type": "code",
   "execution_count": 13,
   "metadata": {},
   "outputs": [
    {
     "data": {
      "text/plain": [
       "2776"
      ]
     },
     "execution_count": 13,
     "metadata": {},
     "output_type": "execute_result"
    }
   ],
   "source": [
    "len(protocol_1)"
   ]
  },
  {
   "cell_type": "code",
   "execution_count": 15,
   "metadata": {},
   "outputs": [],
   "source": [
    "import pandas as pd"
   ]
  },
  {
   "cell_type": "code",
   "execution_count": 17,
   "metadata": {},
   "outputs": [],
   "source": [
    "tiks_dataframe = pd.DataFrame({\n",
    "    'region_name' : pd.Series(loc_region),\n",
    "    'tik_name' : pd.Series(loc_tik),\n",
    "    'registered_voters' : pd.Series(protocol_1),\n",
    "    'received_ballots': pd.Series(protocol_2),\n",
    "    'early_voting_ballots' : pd.Series(protocol_3),\n",
    "    'onsite_ballots' : pd.Series(protocol_4),\n",
    "    'offsite_ballots' : pd.Series(protocol_5),\n",
    "    'unused_ballots' : pd.Series(protocol_6),\n",
    "    'found_offsite_ballots' : pd.Series(protocol_7),\n",
    "    'found_onsite_ballots' : pd.Series(protocol_8),\n",
    "    'invalid_ballots' : pd.Series(protocol_9),\n",
    "    'valid_ballots' : pd.Series(protocol_10),\n",
    "    'lost_ballots' : pd.Series(protocol_11),\n",
    "    'unaccounted_ballots' : pd.Series(protocol_12),\n",
    "    'baburin' : pd.Series(protocol_13),\n",
    "    'grudinin' : pd.Series(protocol_14),\n",
    "    'zhirinovsky' : pd.Series(protocol_15),\n",
    "    'putin' : pd.Series(protocol_16),\n",
    "    'sobchak' : pd.Series(protocol_17),\n",
    "    'suraykin' : pd.Series(protocol_18),\n",
    "    'titov' : pd.Series(protocol_19),\n",
    "    'yavlinsky' : pd.Series(protocol_20)\n",
    "}, columns=[\n",
    "    'region_name',\n",
    "    'tik_name',\n",
    "    'registered_voters',\n",
    "    'received_ballots',\n",
    "    'early_voting_ballots',\n",
    "    'onsite_ballots',\n",
    "    'offsite_ballots',\n",
    "    'unused_ballots',\n",
    "    'found_offsite_ballots',\n",
    "    'found_onsite_ballots',\n",
    "    'invalid_ballots',\n",
    "    'valid_ballots',\n",
    "    'lost_ballots',\n",
    "    'unaccounted_ballots',\n",
    "    'baburin',\n",
    "    'grudinin',\n",
    "    'zhirinovsky',\n",
    "    'putin',\n",
    "    'sobchak',\n",
    "    'suraykin',\n",
    "    'titov',\n",
    "    'yavlinsky'\n",
    "])"
   ]
  },
  {
   "cell_type": "code",
   "execution_count": 18,
   "metadata": {},
   "outputs": [
    {
     "data": {
      "text/html": [
       "<div>\n",
       "<style>\n",
       "    .dataframe thead tr:only-child th {\n",
       "        text-align: right;\n",
       "    }\n",
       "\n",
       "    .dataframe thead th {\n",
       "        text-align: left;\n",
       "    }\n",
       "\n",
       "    .dataframe tbody tr th {\n",
       "        vertical-align: top;\n",
       "    }\n",
       "</style>\n",
       "<table border=\"1\" class=\"dataframe\">\n",
       "  <thead>\n",
       "    <tr style=\"text-align: right;\">\n",
       "      <th></th>\n",
       "      <th>region_name</th>\n",
       "      <th>tik_name</th>\n",
       "      <th>registered_voters</th>\n",
       "      <th>received_ballots</th>\n",
       "      <th>early_voting_ballots</th>\n",
       "      <th>onsite_ballots</th>\n",
       "      <th>offsite_ballots</th>\n",
       "      <th>unused_ballots</th>\n",
       "      <th>found_offsite_ballots</th>\n",
       "      <th>found_onsite_ballots</th>\n",
       "      <th>...</th>\n",
       "      <th>lost_ballots</th>\n",
       "      <th>unaccounted_ballots</th>\n",
       "      <th>baburin</th>\n",
       "      <th>grudinin</th>\n",
       "      <th>zhirinovsky</th>\n",
       "      <th>putin</th>\n",
       "      <th>sobchak</th>\n",
       "      <th>suraykin</th>\n",
       "      <th>titov</th>\n",
       "      <th>yavlinsky</th>\n",
       "    </tr>\n",
       "  </thead>\n",
       "  <tbody>\n",
       "    <tr>\n",
       "      <th>0</th>\n",
       "      <td>Республика Адыгея (Адыгея)</td>\n",
       "      <td>Адыгейская</td>\n",
       "      <td>11624</td>\n",
       "      <td>11350</td>\n",
       "      <td>0</td>\n",
       "      <td>10833</td>\n",
       "      <td>399</td>\n",
       "      <td>118</td>\n",
       "      <td>399</td>\n",
       "      <td>10833</td>\n",
       "      <td>...</td>\n",
       "      <td>0</td>\n",
       "      <td>0</td>\n",
       "      <td>24</td>\n",
       "      <td>655</td>\n",
       "      <td>149</td>\n",
       "      <td>10229</td>\n",
       "      <td>62</td>\n",
       "      <td>16</td>\n",
       "      <td>15</td>\n",
       "      <td>25</td>\n",
       "    </tr>\n",
       "    <tr>\n",
       "      <th>1</th>\n",
       "      <td>Республика Адыгея (Адыгея)</td>\n",
       "      <td>Гиагинская</td>\n",
       "      <td>23049</td>\n",
       "      <td>22395</td>\n",
       "      <td>0</td>\n",
       "      <td>18950</td>\n",
       "      <td>1757</td>\n",
       "      <td>1688</td>\n",
       "      <td>1757</td>\n",
       "      <td>18950</td>\n",
       "      <td>...</td>\n",
       "      <td>0</td>\n",
       "      <td>0</td>\n",
       "      <td>201</td>\n",
       "      <td>2093</td>\n",
       "      <td>919</td>\n",
       "      <td>16789</td>\n",
       "      <td>134</td>\n",
       "      <td>122</td>\n",
       "      <td>87</td>\n",
       "      <td>83</td>\n",
       "    </tr>\n",
       "    <tr>\n",
       "      <th>2</th>\n",
       "      <td>Республика Адыгея (Адыгея)</td>\n",
       "      <td>Кошехабльская</td>\n",
       "      <td>21964</td>\n",
       "      <td>21782</td>\n",
       "      <td>0</td>\n",
       "      <td>19851</td>\n",
       "      <td>1590</td>\n",
       "      <td>341</td>\n",
       "      <td>1590</td>\n",
       "      <td>19851</td>\n",
       "      <td>...</td>\n",
       "      <td>0</td>\n",
       "      <td>0</td>\n",
       "      <td>46</td>\n",
       "      <td>599</td>\n",
       "      <td>218</td>\n",
       "      <td>20307</td>\n",
       "      <td>62</td>\n",
       "      <td>44</td>\n",
       "      <td>30</td>\n",
       "      <td>44</td>\n",
       "    </tr>\n",
       "    <tr>\n",
       "      <th>3</th>\n",
       "      <td>Республика Адыгея (Адыгея)</td>\n",
       "      <td>Красногвардейская</td>\n",
       "      <td>21655</td>\n",
       "      <td>21025</td>\n",
       "      <td>0</td>\n",
       "      <td>17689</td>\n",
       "      <td>1249</td>\n",
       "      <td>2087</td>\n",
       "      <td>1249</td>\n",
       "      <td>17689</td>\n",
       "      <td>...</td>\n",
       "      <td>0</td>\n",
       "      <td>0</td>\n",
       "      <td>89</td>\n",
       "      <td>1683</td>\n",
       "      <td>664</td>\n",
       "      <td>16078</td>\n",
       "      <td>93</td>\n",
       "      <td>80</td>\n",
       "      <td>43</td>\n",
       "      <td>44</td>\n",
       "    </tr>\n",
       "    <tr>\n",
       "      <th>4</th>\n",
       "      <td>Республика Адыгея (Адыгея)</td>\n",
       "      <td>Майкопская</td>\n",
       "      <td>45501</td>\n",
       "      <td>45700</td>\n",
       "      <td>0</td>\n",
       "      <td>26732</td>\n",
       "      <td>1957</td>\n",
       "      <td>17011</td>\n",
       "      <td>1957</td>\n",
       "      <td>26728</td>\n",
       "      <td>...</td>\n",
       "      <td>0</td>\n",
       "      <td>0</td>\n",
       "      <td>152</td>\n",
       "      <td>3968</td>\n",
       "      <td>1612</td>\n",
       "      <td>21842</td>\n",
       "      <td>239</td>\n",
       "      <td>218</td>\n",
       "      <td>129</td>\n",
       "      <td>93</td>\n",
       "    </tr>\n",
       "  </tbody>\n",
       "</table>\n",
       "<p>5 rows × 22 columns</p>\n",
       "</div>"
      ],
      "text/plain": [
       "                  region_name           tik_name  registered_voters  \\\n",
       "0  Республика Адыгея (Адыгея)         Адыгейская              11624   \n",
       "1  Республика Адыгея (Адыгея)         Гиагинская              23049   \n",
       "2  Республика Адыгея (Адыгея)      Кошехабльская              21964   \n",
       "3  Республика Адыгея (Адыгея)  Красногвардейская              21655   \n",
       "4  Республика Адыгея (Адыгея)         Майкопская              45501   \n",
       "\n",
       "   received_ballots  early_voting_ballots  onsite_ballots  offsite_ballots  \\\n",
       "0             11350                     0           10833              399   \n",
       "1             22395                     0           18950             1757   \n",
       "2             21782                     0           19851             1590   \n",
       "3             21025                     0           17689             1249   \n",
       "4             45700                     0           26732             1957   \n",
       "\n",
       "   unused_ballots  found_offsite_ballots  found_onsite_ballots    ...      \\\n",
       "0             118                    399                 10833    ...       \n",
       "1            1688                   1757                 18950    ...       \n",
       "2             341                   1590                 19851    ...       \n",
       "3            2087                   1249                 17689    ...       \n",
       "4           17011                   1957                 26728    ...       \n",
       "\n",
       "   lost_ballots  unaccounted_ballots  baburin  grudinin  zhirinovsky  putin  \\\n",
       "0             0                    0       24       655          149  10229   \n",
       "1             0                    0      201      2093          919  16789   \n",
       "2             0                    0       46       599          218  20307   \n",
       "3             0                    0       89      1683          664  16078   \n",
       "4             0                    0      152      3968         1612  21842   \n",
       "\n",
       "   sobchak  suraykin  titov  yavlinsky  \n",
       "0       62        16     15         25  \n",
       "1      134       122     87         83  \n",
       "2       62        44     30         44  \n",
       "3       93        80     43         44  \n",
       "4      239       218    129         93  \n",
       "\n",
       "[5 rows x 22 columns]"
      ]
     },
     "execution_count": 18,
     "metadata": {},
     "output_type": "execute_result"
    }
   ],
   "source": [
    "tiks_dataframe.head()"
   ]
  },
  {
   "cell_type": "code",
   "execution_count": 19,
   "metadata": {},
   "outputs": [],
   "source": [
    "tiks_dataframe.to_csv(\"tiks-sig.csv\", index=False, encoding='utf-8-sig')\n",
    "tiks_dataframe.to_csv(\"tiks-utf8.csv\", index=False, encoding='utf-8')"
   ]
  },
  {
   "cell_type": "code",
   "execution_count": 22,
   "metadata": {},
   "outputs": [
    {
     "data": {
      "text/plain": [
       "region_name              Республика Адыгея (Адыгея)\n",
       "tik_name                                 Теучежская\n",
       "registered_voters                             13560\n",
       "received_ballots                              13322\n",
       "early_voting_ballots                              0\n",
       "onsite_ballots                                11787\n",
       "offsite_ballots                                 601\n",
       "unused_ballots                                  934\n",
       "found_offsite_ballots                           601\n",
       "found_onsite_ballots                          11787\n",
       "invalid_ballots                                  52\n",
       "valid_ballots                                 12336\n",
       "lost_ballots                                      0\n",
       "unaccounted_ballots                               0\n",
       "baburin                                          14\n",
       "grudinin                                        920\n",
       "zhirinovsky                                     128\n",
       "putin                                         11190\n",
       "sobchak                                          38\n",
       "suraykin                                         22\n",
       "titov                                            13\n",
       "yavlinsky                                        11\n",
       "Name: 7, dtype: object"
      ]
     },
     "execution_count": 22,
     "metadata": {},
     "output_type": "execute_result"
    }
   ],
   "source": [
    "tiks_dataframe.iloc[7]"
   ]
  },
  {
   "cell_type": "code",
   "execution_count": null,
   "metadata": {},
   "outputs": [],
   "source": []
  }
 ],
 "metadata": {
  "kernelspec": {
   "display_name": "Python 3",
   "language": "python",
   "name": "python3"
  },
  "language_info": {
   "codemirror_mode": {
    "name": "ipython",
    "version": 3
   },
   "file_extension": ".py",
   "mimetype": "text/x-python",
   "name": "python",
   "nbconvert_exporter": "python",
   "pygments_lexer": "ipython3",
   "version": "3.6.4"
  }
 },
 "nbformat": 4,
 "nbformat_minor": 2
}
