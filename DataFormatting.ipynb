{
 "cells": [
  {
   "cell_type": "code",
   "execution_count": 11,
   "metadata": {},
   "outputs": [],
   "source": [
    "import json\n",
    "import codecs\n",
    "def json_readr(file):\n",
    "    for line in codecs.open(file, mode=\"r\", encoding='utf-8-sig'):\n",
    "        yield json.loads(line)"
   ]
  },
  {
   "cell_type": "code",
   "execution_count": 12,
   "metadata": {},
   "outputs": [],
   "source": [
    "filename = 'protocols_json.txt'"
   ]
  },
  {
   "cell_type": "code",
   "execution_count": 13,
   "metadata": {},
   "outputs": [],
   "source": [
    "protocols = list(json_readr(filename))"
   ]
  },
  {
   "cell_type": "code",
   "execution_count": 19,
   "metadata": {},
   "outputs": [
    {
     "data": {
      "text/plain": [
       "100470"
      ]
     },
     "execution_count": 19,
     "metadata": {},
     "output_type": "execute_result"
    }
   ],
   "source": [
    "len(protocols)"
   ]
  },
  {
   "cell_type": "code",
   "execution_count": 21,
   "metadata": {},
   "outputs": [],
   "source": [
    "uiks = [x for x in protocols if len(x['loc']) == 3]"
   ]
  },
  {
   "cell_type": "code",
   "execution_count": 22,
   "metadata": {},
   "outputs": [
    {
     "data": {
      "text/plain": [
       "97694"
      ]
     },
     "execution_count": 22,
     "metadata": {},
     "output_type": "execute_result"
    }
   ],
   "source": [
    "len(uiks)"
   ]
  },
  {
   "cell_type": "code",
   "execution_count": 26,
   "metadata": {},
   "outputs": [
    {
     "name": "stdout",
     "output_type": "stream",
     "text": [
      "56409361\n"
     ]
    }
   ],
   "source": [
    "summary = 0\n",
    "for x in uiks:\n",
    "    summary += int(x['data']['16|Путин Владимир Владимирович'])\n",
    "print(summary)"
   ]
  },
  {
   "cell_type": "code",
   "execution_count": 27,
   "metadata": {},
   "outputs": [],
   "source": [
    "regions = set()\n",
    "for x in uiks:\n",
    "    regions.add(x['loc'][0])"
   ]
  },
  {
   "cell_type": "code",
   "execution_count": 28,
   "metadata": {},
   "outputs": [
    {
     "name": "stdout",
     "output_type": "stream",
     "text": [
      "['Пензенская область', 'Ненецкий автономный округ', 'Ленинградская область', 'Владимирская область', 'Томская область', 'Республика Тыва', 'Мурманская область', 'Липецкая область', 'Астраханская область', '98 Город Байконур (Республика Казахстан)', 'Курская область', 'Ростовская область', 'Ярославская область', 'Еврейская автономная область', 'Республика Марий Эл', 'Республика Хакасия', 'Псковская область', 'Республика Башкортостан', 'Волгоградская область', 'Краснодарский край', 'Республика Адыгея (Адыгея)', 'Республика Саха (Якутия)', 'Челябинская область', 'Свердловская область', 'Чукотский автономный округ', 'Республика Татарстан (Татарстан)', 'Белгородская область', 'Новосибирская область', 'Республика Северная Осетия - Алания', 'Брянская область', 'Республика Калмыкия', 'Архангельская область', 'Хабаровский край', 'Омская область', 'Московская область', 'Чувашская Республика - Чувашия', 'Республика Коми', 'Тюменская область', 'Ульяновская область', 'Курганская область', 'Пермский край', 'Сахалинская область', 'Воронежская область', 'Кабардино-Балкарская Республика', 'Калининградская область', 'Алтайский край', 'Ставропольский край', 'Республика Ингушетия', 'Тульская область', 'Кировская область', 'Приморский край', 'Тамбовская область', 'Удмуртская Республика', 'Тверская область', 'город Севастополь', 'Вологодская область', 'Ханты-Мансийский автономный округ - Югра', 'Республика Мордовия', 'Магаданская область', 'Калужская область', 'Республика Дагестан', 'Республика Бурятия', 'Смоленская область', 'Республика Алтай', 'Орловская область', 'Забайкальский край', 'Саратовская область', 'Новгородская область', 'Кемеровская область', 'Чеченская Республика', 'Оренбургская область', 'Костромская область', 'город Санкт-Петербург', 'Республика Крым', 'Камчатский край', '99 Территория за пределами РФ', 'Ивановская область', 'Самарская область', 'Красноярский край', 'Республика Карелия', 'Рязанская область', 'Ямало-Ненецкий автономный округ', 'Карачаево-Черкесская Республика', 'город Москва', 'Амурская область', 'Нижегородская область', 'Иркутская область']\n"
     ]
    }
   ],
   "source": [
    "print(list(regions))"
   ]
  },
  {
   "cell_type": "code",
   "execution_count": 29,
   "metadata": {},
   "outputs": [
    {
     "data": {
      "text/plain": [
       "{'data': {'10|Число действительных избирательных бюллетеней': '1449',\n",
       "  '11|Число утраченных избирательных бюллетеней': '0',\n",
       "  '12|Число избирательных бюллетеней, не учтенных при получении': '0',\n",
       "  '13|Бабурин Сергей Николаевич': '4',\n",
       "  '14|Грудинин Павел Николаевич': '176',\n",
       "  '15|Жириновский Владимир Вольфович': '79',\n",
       "  '16|Путин Владимир Владимирович': '1136',\n",
       "  '17|Собчак Ксения Анатольевна': '30',\n",
       "  '18|Сурайкин Максим Александрович': '9',\n",
       "  '19|Титов Борис Юрьевич': '5',\n",
       "  '1|Число избирателей, включенных в список избирателей': '2132',\n",
       "  '20|Явлинский Григорий Алексеевич': '10',\n",
       "  '2|Число избирательных бюллетеней, полученных участковой избирательной комиссией': '2000',\n",
       "  '3|Число избирательных бюллетеней, выданных избирателям, проголосовавшим досрочно': '0',\n",
       "  '4|Число избирательных бюллетеней, выданных в помещении для голосования в день голосования': '1447',\n",
       "  '5|Число избирательных бюллетеней, выданных вне помещения для голосования в день голосования': '11',\n",
       "  '6|Число погашенных избирательных бюллетеней': '542',\n",
       "  '7|Число избирательных бюллетеней в переносных ящиках для голосования': '11',\n",
       "  '8|Число бюллетеней в стационарных ящиках для голосования': '1447',\n",
       "  '9|Число недействительных избирательных бюллетеней': '9'},\n",
       " 'loc': ['98 Город Байконур (Республика Казахстан)',\n",
       "  '98 Город Байконур (Республика Казахстан)',\n",
       "  'УИК №8140'],\n",
       " 'timestamp': '11:22:41 03/20/18',\n",
       " 'url': 'http://www.vybory.izbirkom.ru/region/izbirkom?action=show&global=true&root=1000087&tvd=100100084849218&vrn=100100084849062&prver=0&pronetvd=0&region=99&sub_region=99&type=227&vibid=100100084849218'}"
      ]
     },
     "execution_count": 29,
     "metadata": {},
     "output_type": "execute_result"
    }
   ],
   "source": [
    "uiks[0]"
   ]
  },
  {
   "cell_type": "code",
   "execution_count": 47,
   "metadata": {},
   "outputs": [],
   "source": [
    "loc_region = []\n",
    "loc_tik = []\n",
    "loc_uik = []\n",
    "protocol_1 = []\n",
    "protocol_2 = []\n",
    "protocol_3 = []\n",
    "protocol_4 = []\n",
    "protocol_5 = []\n",
    "protocol_6 = []\n",
    "protocol_7 = []\n",
    "protocol_8 = []\n",
    "protocol_9 = []\n",
    "protocol_10 = []\n",
    "protocol_11 = []\n",
    "protocol_12 = []\n",
    "protocol_13 = []\n",
    "protocol_14 = []\n",
    "protocol_15 = []\n",
    "protocol_16 = []\n",
    "protocol_17 = []\n",
    "protocol_18 = []\n",
    "protocol_19 = []\n",
    "protocol_20 = []"
   ]
  },
  {
   "cell_type": "code",
   "execution_count": 48,
   "metadata": {},
   "outputs": [],
   "source": [
    "for x in uiks:\n",
    "    loc_region.append(x['loc'][0])\n",
    "    loc_tik.append(x['loc'][1])\n",
    "    loc_uik.append(x['loc'][2])\n",
    "    protocol_1.append(int(x['data']['1|Число избирателей, включенных в список избирателей'])) #1\n",
    "    protocol_2.append(int(x['data']['2|Число избирательных бюллетеней, полученных участковой избирательной комиссией'])) #2\n",
    "    protocol_3.append(int(x['data']['3|Число избирательных бюллетеней, выданных избирателям, проголосовавшим досрочно'])) #3\n",
    "    protocol_4.append(int(x['data']['4|Число избирательных бюллетеней, выданных в помещении для голосования в день голосования'])) #4\n",
    "    protocol_5.append(int(x['data']['5|Число избирательных бюллетеней, выданных вне помещения для голосования в день голосования'])) #5\n",
    "    protocol_6.append(int(x['data']['6|Число погашенных избирательных бюллетеней'])) #6\n",
    "    protocol_7.append(int(x['data']['7|Число избирательных бюллетеней в переносных ящиках для голосования'])) #7\n",
    "    protocol_8.append(int(x['data']['8|Число бюллетеней в стационарных ящиках для голосования'])) #8\n",
    "    protocol_9.append(int(x['data']['9|Число недействительных избирательных бюллетеней'])) #9\n",
    "    protocol_10.append(int(x['data']['10|Число действительных избирательных бюллетеней'])) #10\n",
    "    protocol_11.append(int(x['data']['11|Число утраченных избирательных бюллетеней'])) #11\n",
    "    protocol_12.append(int(x['data']['12|Число избирательных бюллетеней, не учтенных при получении'])) #12\n",
    "    protocol_13.append(int(x['data']['13|Бабурин Сергей Николаевич'])) #13\n",
    "    protocol_14.append(int(x['data']['14|Грудинин Павел Николаевич'])) #14\n",
    "    protocol_15.append(int(x['data']['15|Жириновский Владимир Вольфович'])) #15\n",
    "    protocol_16.append(int(x['data']['16|Путин Владимир Владимирович'])) #16\n",
    "    protocol_17.append(int(x['data']['17|Собчак Ксения Анатольевна'])) #17\n",
    "    protocol_18.append(int(x['data']['18|Сурайкин Максим Александрович'])) #18\n",
    "    protocol_19.append(int(x['data']['19|Титов Борис Юрьевич'])) #19\n",
    "    protocol_20.append(int(x['data']['20|Явлинский Григорий Алексеевич'])) #20"
   ]
  },
  {
   "cell_type": "code",
   "execution_count": 49,
   "metadata": {},
   "outputs": [
    {
     "data": {
      "text/plain": [
       "97694"
      ]
     },
     "execution_count": 49,
     "metadata": {},
     "output_type": "execute_result"
    }
   ],
   "source": [
    "len(protocol_1)"
   ]
  },
  {
   "cell_type": "code",
   "execution_count": 42,
   "metadata": {},
   "outputs": [],
   "source": [
    "import pandas as pd"
   ]
  },
  {
   "cell_type": "code",
   "execution_count": 53,
   "metadata": {},
   "outputs": [],
   "source": [
    "uiks_dataframe = pd.DataFrame({\n",
    "    'region_name' : pd.Series(loc_region),\n",
    "    'tik_name' : pd.Series(loc_tik),\n",
    "    'uik_name' : pd.Series(loc_uik),\n",
    "    'registered_voters' : pd.Series(protocol_1),\n",
    "    'received_ballots': pd.Series(protocol_2),\n",
    "    'early_voting_ballots' : pd.Series(protocol_3),\n",
    "    'onsite_ballots' : pd.Series(protocol_4),\n",
    "    'offsite_ballots' : pd.Series(protocol_5),\n",
    "    'unused_ballots' : pd.Series(protocol_6),\n",
    "    'found_offsite_ballots' : pd.Series(protocol_7),\n",
    "    'found_onsite_ballots' : pd.Series(protocol_8),\n",
    "    'invalid_ballots' : pd.Series(protocol_9),\n",
    "    'valid_ballots' : pd.Series(protocol_10),\n",
    "    'lost_ballots' : pd.Series(protocol_11),\n",
    "    'unaccounted_ballots' : pd.Series(protocol_12),\n",
    "    'baburin' : pd.Series(protocol_13),\n",
    "    'grudinin' : pd.Series(protocol_14),\n",
    "    'zhirinovsky' : pd.Series(protocol_15),\n",
    "    'putin' : pd.Series(protocol_16),\n",
    "    'sobchak' : pd.Series(protocol_17),\n",
    "    'suraykin' : pd.Series(protocol_18),\n",
    "    'titov' : pd.Series(protocol_19),\n",
    "    'yavlinsky' : pd.Series(protocol_20)\n",
    "}, columns=[\n",
    "    'region_name',\n",
    "    'tik_name',\n",
    "    'uik_name',\n",
    "    'registered_voters',\n",
    "    'received_ballots',\n",
    "    'early_voting_ballots',\n",
    "    'onsite_ballots',\n",
    "    'offsite_ballots',\n",
    "    'unused_ballots',\n",
    "    'found_offsite_ballots',\n",
    "    'found_onsite_ballots',\n",
    "    'invalid_ballots',\n",
    "    'valid_ballots',\n",
    "    'lost_ballots',\n",
    "    'unaccounted_ballots',\n",
    "    'baburin',\n",
    "    'grudinin',\n",
    "    'zhirinovsky',\n",
    "    'putin',\n",
    "    'sobchak',\n",
    "    'suraykin',\n",
    "    'titov',\n",
    "    'yavlinsky'\n",
    "])"
   ]
  },
  {
   "cell_type": "code",
   "execution_count": 54,
   "metadata": {},
   "outputs": [
    {
     "data": {
      "text/html": [
       "<div>\n",
       "<style>\n",
       "    .dataframe thead tr:only-child th {\n",
       "        text-align: right;\n",
       "    }\n",
       "\n",
       "    .dataframe thead th {\n",
       "        text-align: left;\n",
       "    }\n",
       "\n",
       "    .dataframe tbody tr th {\n",
       "        vertical-align: top;\n",
       "    }\n",
       "</style>\n",
       "<table border=\"1\" class=\"dataframe\">\n",
       "  <thead>\n",
       "    <tr style=\"text-align: right;\">\n",
       "      <th></th>\n",
       "      <th>region_name</th>\n",
       "      <th>tik_name</th>\n",
       "      <th>uik_name</th>\n",
       "      <th>registered_voters</th>\n",
       "      <th>received_ballots</th>\n",
       "      <th>early_voting_ballots</th>\n",
       "      <th>onsite_ballots</th>\n",
       "      <th>offsite_ballots</th>\n",
       "      <th>unused_ballots</th>\n",
       "      <th>found_offsite_ballots</th>\n",
       "      <th>...</th>\n",
       "      <th>lost_ballots</th>\n",
       "      <th>unaccounted_ballots</th>\n",
       "      <th>baburin</th>\n",
       "      <th>grudinin</th>\n",
       "      <th>zhirinovsky</th>\n",
       "      <th>putin</th>\n",
       "      <th>sobchak</th>\n",
       "      <th>suraykin</th>\n",
       "      <th>titov</th>\n",
       "      <th>yavlinsky</th>\n",
       "    </tr>\n",
       "  </thead>\n",
       "  <tbody>\n",
       "    <tr>\n",
       "      <th>0</th>\n",
       "      <td>98 Город Байконур (Республика Казахстан)</td>\n",
       "      <td>98 Город Байконур (Республика Казахстан)</td>\n",
       "      <td>УИК №8140</td>\n",
       "      <td>2132</td>\n",
       "      <td>2000</td>\n",
       "      <td>0</td>\n",
       "      <td>1447</td>\n",
       "      <td>11</td>\n",
       "      <td>542</td>\n",
       "      <td>11</td>\n",
       "      <td>...</td>\n",
       "      <td>0</td>\n",
       "      <td>0</td>\n",
       "      <td>4</td>\n",
       "      <td>176</td>\n",
       "      <td>79</td>\n",
       "      <td>1136</td>\n",
       "      <td>30</td>\n",
       "      <td>9</td>\n",
       "      <td>5</td>\n",
       "      <td>10</td>\n",
       "    </tr>\n",
       "    <tr>\n",
       "      <th>1</th>\n",
       "      <td>98 Город Байконур (Республика Казахстан)</td>\n",
       "      <td>98 Город Байконур (Республика Казахстан)</td>\n",
       "      <td>УИК №8141</td>\n",
       "      <td>2207</td>\n",
       "      <td>2000</td>\n",
       "      <td>0</td>\n",
       "      <td>1470</td>\n",
       "      <td>14</td>\n",
       "      <td>516</td>\n",
       "      <td>14</td>\n",
       "      <td>...</td>\n",
       "      <td>0</td>\n",
       "      <td>0</td>\n",
       "      <td>2</td>\n",
       "      <td>128</td>\n",
       "      <td>87</td>\n",
       "      <td>1214</td>\n",
       "      <td>19</td>\n",
       "      <td>4</td>\n",
       "      <td>7</td>\n",
       "      <td>9</td>\n",
       "    </tr>\n",
       "    <tr>\n",
       "      <th>2</th>\n",
       "      <td>98 Город Байконур (Республика Казахстан)</td>\n",
       "      <td>98 Город Байконур (Республика Казахстан)</td>\n",
       "      <td>УИК №8142</td>\n",
       "      <td>2249</td>\n",
       "      <td>2000</td>\n",
       "      <td>0</td>\n",
       "      <td>1490</td>\n",
       "      <td>7</td>\n",
       "      <td>503</td>\n",
       "      <td>7</td>\n",
       "      <td>...</td>\n",
       "      <td>0</td>\n",
       "      <td>0</td>\n",
       "      <td>5</td>\n",
       "      <td>171</td>\n",
       "      <td>94</td>\n",
       "      <td>1162</td>\n",
       "      <td>17</td>\n",
       "      <td>3</td>\n",
       "      <td>12</td>\n",
       "      <td>6</td>\n",
       "    </tr>\n",
       "    <tr>\n",
       "      <th>3</th>\n",
       "      <td>98 Город Байконур (Республика Казахстан)</td>\n",
       "      <td>98 Город Байконур (Республика Казахстан)</td>\n",
       "      <td>УИК №8143</td>\n",
       "      <td>1769</td>\n",
       "      <td>1500</td>\n",
       "      <td>0</td>\n",
       "      <td>1065</td>\n",
       "      <td>48</td>\n",
       "      <td>387</td>\n",
       "      <td>48</td>\n",
       "      <td>...</td>\n",
       "      <td>0</td>\n",
       "      <td>0</td>\n",
       "      <td>5</td>\n",
       "      <td>98</td>\n",
       "      <td>72</td>\n",
       "      <td>882</td>\n",
       "      <td>17</td>\n",
       "      <td>8</td>\n",
       "      <td>5</td>\n",
       "      <td>6</td>\n",
       "    </tr>\n",
       "    <tr>\n",
       "      <th>4</th>\n",
       "      <td>98 Город Байконур (Республика Казахстан)</td>\n",
       "      <td>98 Город Байконур (Республика Казахстан)</td>\n",
       "      <td>УИК №8144</td>\n",
       "      <td>1880</td>\n",
       "      <td>1500</td>\n",
       "      <td>0</td>\n",
       "      <td>1171</td>\n",
       "      <td>13</td>\n",
       "      <td>316</td>\n",
       "      <td>13</td>\n",
       "      <td>...</td>\n",
       "      <td>0</td>\n",
       "      <td>0</td>\n",
       "      <td>7</td>\n",
       "      <td>124</td>\n",
       "      <td>105</td>\n",
       "      <td>902</td>\n",
       "      <td>7</td>\n",
       "      <td>9</td>\n",
       "      <td>10</td>\n",
       "      <td>10</td>\n",
       "    </tr>\n",
       "  </tbody>\n",
       "</table>\n",
       "<p>5 rows × 23 columns</p>\n",
       "</div>"
      ],
      "text/plain": [
       "                                region_name  \\\n",
       "0  98 Город Байконур (Республика Казахстан)   \n",
       "1  98 Город Байконур (Республика Казахстан)   \n",
       "2  98 Город Байконур (Республика Казахстан)   \n",
       "3  98 Город Байконур (Республика Казахстан)   \n",
       "4  98 Город Байконур (Республика Казахстан)   \n",
       "\n",
       "                                   tik_name   uik_name  registered_voters  \\\n",
       "0  98 Город Байконур (Республика Казахстан)  УИК №8140               2132   \n",
       "1  98 Город Байконур (Республика Казахстан)  УИК №8141               2207   \n",
       "2  98 Город Байконур (Республика Казахстан)  УИК №8142               2249   \n",
       "3  98 Город Байконур (Республика Казахстан)  УИК №8143               1769   \n",
       "4  98 Город Байконур (Республика Казахстан)  УИК №8144               1880   \n",
       "\n",
       "   received_ballots  early_voting_ballots  onsite_ballots  offsite_ballots  \\\n",
       "0              2000                     0            1447               11   \n",
       "1              2000                     0            1470               14   \n",
       "2              2000                     0            1490                7   \n",
       "3              1500                     0            1065               48   \n",
       "4              1500                     0            1171               13   \n",
       "\n",
       "   unused_ballots  found_offsite_ballots    ...      lost_ballots  \\\n",
       "0             542                     11    ...                 0   \n",
       "1             516                     14    ...                 0   \n",
       "2             503                      7    ...                 0   \n",
       "3             387                     48    ...                 0   \n",
       "4             316                     13    ...                 0   \n",
       "\n",
       "   unaccounted_ballots  baburin  grudinin  zhirinovsky  putin  sobchak  \\\n",
       "0                    0        4       176           79   1136       30   \n",
       "1                    0        2       128           87   1214       19   \n",
       "2                    0        5       171           94   1162       17   \n",
       "3                    0        5        98           72    882       17   \n",
       "4                    0        7       124          105    902        7   \n",
       "\n",
       "   suraykin  titov  yavlinsky  \n",
       "0         9      5         10  \n",
       "1         4      7          9  \n",
       "2         3     12          6  \n",
       "3         8      5          6  \n",
       "4         9     10         10  \n",
       "\n",
       "[5 rows x 23 columns]"
      ]
     },
     "execution_count": 54,
     "metadata": {},
     "output_type": "execute_result"
    }
   ],
   "source": [
    "uiks_dataframe.head()"
   ]
  },
  {
   "cell_type": "code",
   "execution_count": 64,
   "metadata": {},
   "outputs": [],
   "source": [
    "uiks_dataframe.to_csv(\"uiks-sig.csv\", index=False, encoding='utf-8-sig')\n",
    "uiks_dataframe.to_csv(\"uiks-utf8.csv\", index=False, encoding='utf-8')"
   ]
  },
  {
   "cell_type": "code",
   "execution_count": 62,
   "metadata": {},
   "outputs": [
    {
     "data": {
      "text/plain": [
       "region_name              99 Территория за пределами РФ\n",
       "tik_name                 99 Территория за пределами РФ\n",
       "uik_name                                     УИК №8000\n",
       "registered_voters                                 5297\n",
       "received_ballots                                 11000\n",
       "early_voting_ballots                               694\n",
       "onsite_ballots                                    4557\n",
       "offsite_ballots                                     46\n",
       "unused_ballots                                    5703\n",
       "found_offsite_ballots                              740\n",
       "found_onsite_ballots                              4557\n",
       "invalid_ballots                                    175\n",
       "valid_ballots                                     5122\n",
       "lost_ballots                                         0\n",
       "unaccounted_ballots                                  0\n",
       "baburin                                             46\n",
       "grudinin                                           159\n",
       "zhirinovsky                                         80\n",
       "putin                                             4779\n",
       "sobchak                                             30\n",
       "suraykin                                            12\n",
       "titov                                                5\n",
       "yavlinsky                                           11\n",
       "Name: 7, dtype: object"
      ]
     },
     "execution_count": 62,
     "metadata": {},
     "output_type": "execute_result"
    }
   ],
   "source": [
    "uiks_dataframe.ix[7]"
   ]
  }
 ],
 "metadata": {
  "kernelspec": {
   "display_name": "Python 3",
   "language": "python",
   "name": "python3"
  },
  "language_info": {
   "codemirror_mode": {
    "name": "ipython",
    "version": 3
   },
   "file_extension": ".py",
   "mimetype": "text/x-python",
   "name": "python",
   "nbconvert_exporter": "python",
   "pygments_lexer": "ipython3",
   "version": "3.6.4"
  }
 },
 "nbformat": 4,
 "nbformat_minor": 2
}
